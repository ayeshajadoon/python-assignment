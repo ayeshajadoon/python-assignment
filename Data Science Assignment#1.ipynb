{
 "cells": [
  {
   "cell_type": "code",
   "execution_count": 1,
   "id": "8da73384",
   "metadata": {},
   "outputs": [
    {
     "name": "stdout",
     "output_type": "stream",
     "text": [
      "Twinkle, twinkle, little star, \n",
      "\tHow I wonder what you are! \n",
      "\t\tUp above the world so high, \n",
      "\t\tLike a diamond in the sky. \n",
      "Twinkle, twinkle, little star, \n",
      "\tHow I wonder what you are\n"
     ]
    }
   ],
   "source": [
    "# 1: print poem\n",
    "print(\"Twinkle, twinkle, little star, \\n\\tHow I wonder what you are! \\n\\t\\tUp above the world so high, \\n\\t\\tLike a diamond in the sky. \\nTwinkle, twinkle, little star, \\n\\tHow I wonder what you are\")"
   ]
  },
  {
   "cell_type": "code",
   "execution_count": 2,
   "id": "fe269878",
   "metadata": {},
   "outputs": [
    {
     "name": "stdout",
     "output_type": "stream",
     "text": [
      "3.8.8\n"
     ]
    }
   ],
   "source": [
    "# 2: program to get python version \n",
    "import platform\n",
    "print(platform.python_version())"
   ]
  },
  {
   "cell_type": "code",
   "execution_count": 3,
   "id": "a71248f1",
   "metadata": {},
   "outputs": [
    {
     "name": "stdout",
     "output_type": "stream",
     "text": [
      "Today's date: 2021-12-28\n"
     ]
    }
   ],
   "source": [
    "# 3: program to find current time and date\n",
    "from datetime import date\n",
    "\n",
    "today = date.today();\n",
    "print(\"Today's date:\", today)"
   ]
  },
  {
   "cell_type": "code",
   "execution_count": 4,
   "id": "e023d558",
   "metadata": {},
   "outputs": [
    {
     "name": "stdout",
     "output_type": "stream",
     "text": [
      "Enter the radius of circle: 34\n",
      "The area is: 3631.681107549801\n"
     ]
    }
   ],
   "source": [
    "# 4: program to accept radius of a circle and compute the area\n",
    "from math import pi\n",
    "radius = input(\"Enter the radius of circle: \");\n",
    "radius = float(radius);\n",
    "area = pi * pow(radius,2);\n",
    "print(\"The area is: \" + str(area));"
   ]
  },
  {
   "cell_type": "code",
   "execution_count": 5,
   "id": "a38f7c2b",
   "metadata": {},
   "outputs": [
    {
     "name": "stdout",
     "output_type": "stream",
     "text": [
      "Enter your first name: Ayesha\n",
      "Enter your last name: Khan\n",
      "Name is: Ayesha Khan\n",
      "Name is: Khan Ayesha\n"
     ]
    }
   ],
   "source": [
    "# 5: print name in reverse order\n",
    "\n",
    "first = input(\"Enter your first name: \")\n",
    "last = input(\"Enter your last name: \")\n",
    "print(\"Name is: \"+ first + \" \"+ last)\n",
    "print(\"Name is: \"+ last + \" \"+ first)"
   ]
  },
  {
   "cell_type": "code",
   "execution_count": 6,
   "id": "a7207af6",
   "metadata": {},
   "outputs": [
    {
     "name": "stdout",
     "output_type": "stream",
     "text": [
      "Enter 1st number: 56\n",
      "Enter 2nd number: 77\n",
      "The sum is: 133\n"
     ]
    }
   ],
   "source": [
    "# 6: program to add two numbers\n",
    "\n",
    "num1 = input(\"Enter 1st number: \")\n",
    "num2 = input(\"Enter 2nd number: \")\n",
    "sum = int(num1) + int (num2);\n",
    "print(\"The sum is: \" + str(sum))"
   ]
  },
  {
   "cell_type": "code",
   "execution_count": 7,
   "id": "a74f12df",
   "metadata": {},
   "outputs": [
    {
     "name": "stdout",
     "output_type": "stream",
     "text": [
      "Twinkle, twinkle, little star\n",
      "\tHow I wonder what you are!\n",
      "\t\tUp above the world so high,\n",
      "\t\tLike a diamond in the sky.\n",
      "Twinkle, twinkle, little star,\n",
      "\tHow I wonder what you are!\n"
     ]
    }
   ],
   "source": [
    "print(\"Twinkle, twinkle, little star\")\n",
    "print(\"\\tHow I wonder what you are!\")\n",
    "print(\"\\t\\tUp above the world so high,\")\n",
    "print(\"\\t\\tLike a diamond in the sky.\")\n",
    "print(\"Twinkle, twinkle, little star,\")\n",
    "print(\"\\tHow I wonder what you are!\")"
   ]
  },
  {
   "cell_type": "code",
   "execution_count": null,
   "id": "ae84ec6a",
   "metadata": {},
   "outputs": [],
   "source": []
  }
 ],
 "metadata": {
  "kernelspec": {
   "display_name": "Python 3",
   "language": "python",
   "name": "python3"
  },
  "language_info": {
   "codemirror_mode": {
    "name": "ipython",
    "version": 3
   },
   "file_extension": ".py",
   "mimetype": "text/x-python",
   "name": "python",
   "nbconvert_exporter": "python",
   "pygments_lexer": "ipython3",
   "version": "3.8.8"
  }
 },
 "nbformat": 4,
 "nbformat_minor": 5
}
